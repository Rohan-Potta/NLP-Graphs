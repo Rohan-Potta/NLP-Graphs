{
 "cells": [
  {
   "cell_type": "code",
   "execution_count": null,
   "metadata": {},
   "outputs": [],
   "source": [
    "import wandb\n",
    "run = wandb.init()\n",
    "artifact = run.use_artifact('parambharat/mave/raw_dataset:v0', type='dataset')\n",
    "artifact_dir = artifact.download()\n"
   ]
  },
  {
   "cell_type": "code",
   "execution_count": null,
   "metadata": {},
   "outputs": [],
   "source": [
    "project(\"parambharat\", \"mave\").artifact(\"raw_dataset\").membershipForAlias(\"v1\").artifactVersion.file(\"raw_dataset.table.json\")"
   ]
  },
  {
   "cell_type": "code",
   "execution_count": null,
   "metadata": {},
   "outputs": [],
   "source": [
    "project(\"parambharat\", \"mave\").artifact(\"split_dataset\").membershipForAlias(\"v1\").artifactVersion.file(\"train.table.json\")"
   ]
  },
  {
   "cell_type": "code",
   "execution_count": null,
   "metadata": {},
   "outputs": [],
   "source": [
    "import json\n",
    "\n",
    "\n",
    "# utility to preprocess and prepare the dataset.\n",
    "def prepare_dataset(row):\n",
    "    paragraphs = row[\"paragraphs\"]\n",
    "    attributes = row[\"attributes\"]\n",
    "\n",
    "\n",
    "    completion = {}\n",
    "    \n",
    "    pids = []\n",
    "    for attribute in attributes:\n",
    "        key = attribute[\"key\"]\n",
    "        for evidence in attribute[\"evidences\"]:\n",
    "            pid = evidence['pid']\n",
    "            source = paragraphs[pid].get('source', pid)\n",
    "            if source in [\"title\",]:\n",
    "                current = {key: evidence['value']}\n",
    "                if current[key].lower() not in map(lambda x: x.lower(), completion.values()):\n",
    "                    completion[key] = current[key]\n",
    "                    pids.append(pid)\n",
    "    completion[\"category\"] = row[\"category\"]\n",
    "    completion = \" \" + json.dumps(completion) + \"\\n\\n###\\n\\n\"\n",
    "    \n",
    "    prompt = \"\"\n",
    "    for pid in set(pids):\n",
    "        source = paragraphs[pid]\n",
    "        prompt+= f\"{source.get('text', '')}\\n\"\n",
    "    prompt += \"==>\\n\"\n",
    "    \n",
    "    return pd.Series({\"prompt\": prompt, \"completion\": completion})\n",
    "\n",
    "\n",
    "# reuse the artifact for the subset we created earlier\n",
    "wandb.init(project=\"mave\", entity=\"parambharat\")\n",
    "artifact = wandb.use_artifact('raw_dataset:latest', type=\"dataset\")\n",
    "subset = artifact.get(\"raw_dataset\")\n",
    "subset = pd.DataFrame(subset.data, columns=subset.columns)\n",
    "\n",
    "\n",
    "# split the dataset into train test and validation splits.\n",
    "train_df, test_df = train_test_split(subset, stratify=subset.category, test_size=0.25)\n",
    "val_df, test_df = train_test_split(test_df, stratify=test_df.category, test_size=0.5)\n",
    "\n",
    "\n",
    "train_df = train_df.apply(prepare_dataset, axis=1)\n",
    "train_df.to_json(\"prompts_dataset_train.jsonl\", lines=True, orient=\"records\")\n",
    "\n",
    "\n",
    "val_df = test_df.apply(prepare_dataset, axis=1)\n",
    "val_df.to_json(\"prompts_dataset_val.jsonl\", lines=True, orient=\"records\")\n",
    "\n",
    "\n",
    "test_df = test_df.apply(prepare_dataset, axis=1)\n",
    "test_df.to_json(\"prompts_dataset_test.jsonl\", lines=True, orient=\"records\")\n",
    "\n",
    "\n",
    "# run openai dataset preparation tool.\n",
    "!openai tools fine_tunes.prepare_data -f prompts_dataset_train.jsonl -q\n",
    "!openai tools fine_tunes.prepare_data -f prompts_dataset_val.jsonl -q\n",
    "!openai tools fine_tunes.prepare_data -f prompts_dataset_test.jsonl -q\n"
   ]
  },
  {
   "cell_type": "code",
   "execution_count": null,
   "metadata": {},
   "outputs": [],
   "source": [
    "project(\"parambharat\", \"mave\").artifact(\"prepared_dataset\") "
   ]
  },
  {
   "cell_type": "code",
   "execution_count": null,
   "metadata": {},
   "outputs": [],
   "source": []
  },
  {
   "cell_type": "code",
   "execution_count": null,
   "metadata": {},
   "outputs": [],
   "source": []
  },
  {
   "cell_type": "code",
   "execution_count": null,
   "metadata": {},
   "outputs": [],
   "source": []
  },
  {
   "cell_type": "code",
   "execution_count": null,
   "metadata": {},
   "outputs": [],
   "source": []
  },
  {
   "cell_type": "code",
   "execution_count": null,
   "metadata": {},
   "outputs": [],
   "source": []
  },
  {
   "cell_type": "code",
   "execution_count": null,
   "metadata": {},
   "outputs": [],
   "source": []
  }
 ],
 "metadata": {
  "language_info": {
   "name": "python"
  },
  "orig_nbformat": 4
 },
 "nbformat": 4,
 "nbformat_minor": 2
}
