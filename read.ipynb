{
 "cells": [
  {
   "cell_type": "code",
   "execution_count": 1,
   "metadata": {},
   "outputs": [
    {
     "name": "stdout",
     "output_type": "stream",
     "text": [
      "result: {'id': 'B0052LYUH6', 'category': 'Curtains & Drapes', 'attributes': [{'key': 'Attachment Method', 'evidences': [{'value': 'Rod Pocket', 'pid': 1, 'begin': 98, 'end': 108}, {'value': 'rod pocket', 'pid': 5, 'begin': 7, 'end': 17}]}, {'key': 'Style', 'evidences': [{'value': 'Panel', 'pid': 0, 'begin': 71, 'end': 76}, {'value': 'Panel', 'pid': 1, 'begin': 116, 'end': 121}, {'value': 'panels', 'pid': 3, 'begin': 15, 'end': 21}]}]}\n",
      "True\n",
      "result: {'id': 'B017T3038E', 'category': 'Notebooks & Notepads', 'attributes': [{'key': 'Type', 'evidences': [{'value': 'Notebook', 'pid': 0, 'begin': 10, 'end': 18}, {'value': 'Journal', 'pid': 0, 'begin': 69, 'end': 76}, {'value': 'Notebook', 'pid': 1, 'begin': 10, 'end': 18}, {'value': 'notebook', 'pid': 2, 'begin': 403, 'end': 411}, {'value': 'notebook', 'pid': 4, 'begin': 12, 'end': 20}, {'value': 'notebook', 'pid': 8, 'begin': 108, 'end': 116}]}]}\n",
      "True\n",
      "result: {'id': 'B00XECGDY8', 'category': 'Shoes', 'attributes': [{'key': 'Type', 'evidences': [{'value': 'Shoe', 'pid': 0, 'begin': 55, 'end': 59}, {'value': 'shoes', 'pid': 1, 'begin': 61, 'end': 66}, {'value': 'shoe', 'pid': 1, 'begin': 150, 'end': 154}, {'value': 'shoes', 'pid': 1, 'begin': 278, 'end': 283}]}, {'key': 'Style', 'evidences': [{'value': 'Vans', 'pid': 0, 'begin': 0, 'end': 4}, {'value': 'casual', 'pid': 1, 'begin': 242, 'end': 248}, {'value': 'Vans', 'pid': 11, 'begin': 0, 'end': 4}]}, {'key': 'Athletic Shoe Style', 'evidences': [{'value': 'Skateboarding Shoe', 'pid': 0, 'begin': 41, 'end': 59}, {'value': 'skateboarding shoe', 'pid': 1, 'begin': 136, 'end': 154}]}]}\n",
      "True\n",
      "result: {'id': 'B01EUR06XY', 'category': 'Baking Mats & Liners', 'attributes': [{'key': 'Type', 'evidences': [{'value': 'oven', 'pid': 1, 'begin': 441, 'end': 445}, {'value': 'Ovens', 'pid': 1, 'begin': 1378, 'end': 1383}, {'value': 'BAKING MAT', 'pid': 1, 'begin': 1501, 'end': 1511}, {'value': 'baking mats', 'pid': 4, 'begin': 107, 'end': 118}, {'value': 'oven', 'pid': 5, 'begin': 115, 'end': 119}]}]}\n",
      "True\n",
      "result: {'id': 'B00XJ0PCOC', 'category': 'Swimwear', 'attributes': [{'key': 'Type', 'evidences': [{'value': 'One Piece', 'pid': 0, 'begin': 78, 'end': 87}, {'value': 'swimsuit', 'pid': 11, 'begin': 52, 'end': 60}, {'value': 'swimsuit', 'pid': 11, 'begin': 252, 'end': 260}, {'value': 'swimsuit', 'pid': 11, 'begin': 367, 'end': 375}, {'value': 'one piece', 'pid': 20, 'begin': 115, 'end': 124}, {'value': 'one piece', 'pid': 21, 'begin': 34, 'end': 43}, {'value': 'swimsuit', 'pid': 22, 'begin': 28, 'end': 36}, {'value': 'swimsuit', 'pid': 22, 'begin': 150, 'end': 158}]}]}\n",
      "True\n",
      "result: {'id': 'B00SQ60G2C', 'category': 'Baby One-Pieces', 'attributes': [{'key': 'Style', 'evidences': [{'value': 'Bodysuit', 'pid': 0, 'begin': 56, 'end': 64}]}]}\n",
      "True\n",
      "result: {'id': 'B01GSYB032', 'category': 'Stuffed Animals', 'attributes': [{'key': 'Form', 'evidences': [{'value': 'Curious George', 'pid': 0, 'begin': 5, 'end': 19}, {'value': 'monkey', 'pid': 1, 'begin': 45, 'end': 51}, {'value': 'Curious George', 'pid': 1, 'begin': 52, 'end': 66}, {'value': 'Curious George', 'pid': 2, 'begin': 0, 'end': 14}, {'value': 'Curious George', 'pid': 4, 'begin': 42, 'end': 56}, {'value': 'Curious George', 'pid': 7, 'begin': 0, 'end': 14}, {'value': 'Curious George', 'pid': 9, 'begin': 42, 'end': 56}]}]}\n",
      "True\n",
      "result: {'id': 'B007IXZ6Z6', 'category': 'Locks & Keys', 'attributes': [{'key': 'Lock Use', 'evidences': [{'value': 'Luggage', 'pid': 0, 'begin': 26, 'end': 33}, {'value': 'luggage', 'pid': 1, 'begin': 115, 'end': 122}, {'value': 'luggage', 'pid': 1, 'begin': 200, 'end': 207}, {'value': 'luggage', 'pid': 1, 'begin': 376, 'end': 383}, {'value': 'luggage', 'pid': 4, 'begin': 56, 'end': 63}, {'value': 'luggage', 'pid': 6, 'begin': 21, 'end': 28}]}]}\n",
      "True\n",
      "result: {'id': 'B001R6FZLU', 'category': 'Numeric Keypads', 'attributes': [{'key': 'Number of Keys', 'evidences': [{'value': '19 Keys', 'pid': 0, 'begin': 114, 'end': 121}, {'value': '19 Keys', 'pid': 2, 'begin': 0, 'end': 7}]}]}\n",
      "True\n",
      "result: {'id': 'B00A3YKK4E', 'category': 'Craft & Office Scissors', 'attributes': [{'key': 'Type', 'evidences': [{'value': 'Office', 'pid': 0, 'begin': 48, 'end': 54}]}]}\n",
      "True\n"
     ]
    }
   ],
   "source": [
    "import json\n",
    "records_list = []\n",
    "\n",
    "count=0\n",
    "\n",
    "with open('labels\\mave_positives_labels.jsonl', 'r') as json_file:\n",
    "    json_list = list(json_file)\n",
    "    \n",
    "for json_str in json_list:\n",
    "    result = json.loads(json_str)\n",
    "    print(f\"result: {result}\")\n",
    "    print(isinstance(result, dict))\n",
    "    records_list.append(result)\n",
    "    count = count+1\n",
    "    if count==10:\n",
    "        break\n",
    "    "
   ]
  },
  {
   "cell_type": "code",
   "execution_count": 2,
   "metadata": {},
   "outputs": [
    {
     "name": "stdout",
     "output_type": "stream",
     "text": [
      "{\"id\": \"B0052LYUH6\", \"category\": \"Curtains & Drapes\", \"attributes\": [{\"key\": \"Attachment Method\", \"evidences\": [{\"value\": \"Rod Pocket\", \"pid\": 1, \"begin\": 98, \"end\": 108}, {\"value\": \"rod pocket\", \"pid\": 5, \"begin\": 7, \"end\": 17}]}, {\"key\": \"Style\", \"evidences\": [{\"value\": \"Panel\", \"pid\": 0, \"begin\": 71, \"end\": 76}, {\"value\": \"Panel\", \"pid\": 1, \"begin\": 116, \"end\": 121}, {\"value\": \"panels\", \"pid\": 3, \"begin\": 15, \"end\": 21}]}]}\n",
      "\n"
     ]
    }
   ],
   "source": [
    "print(json_list[0])"
   ]
  },
  {
   "cell_type": "code",
   "execution_count": 3,
   "metadata": {},
   "outputs": [
    {
     "data": {
      "text/plain": [
       "{'id': 'B00A3YKK4E',\n",
       " 'category': 'Craft & Office Scissors',\n",
       " 'attributes': [{'key': 'Type',\n",
       "   'evidences': [{'value': 'Office', 'pid': 0, 'begin': 48, 'end': 54}]}]}"
      ]
     },
     "execution_count": 3,
     "metadata": {},
     "output_type": "execute_result"
    }
   ],
   "source": [
    "result"
   ]
  },
  {
   "cell_type": "code",
   "execution_count": 4,
   "metadata": {},
   "outputs": [
    {
     "data": {
      "text/plain": [
       "[{'id': 'B0052LYUH6',\n",
       "  'category': 'Curtains & Drapes',\n",
       "  'attributes': [{'key': 'Attachment Method',\n",
       "    'evidences': [{'value': 'Rod Pocket', 'pid': 1, 'begin': 98, 'end': 108},\n",
       "     {'value': 'rod pocket', 'pid': 5, 'begin': 7, 'end': 17}]},\n",
       "   {'key': 'Style',\n",
       "    'evidences': [{'value': 'Panel', 'pid': 0, 'begin': 71, 'end': 76},\n",
       "     {'value': 'Panel', 'pid': 1, 'begin': 116, 'end': 121},\n",
       "     {'value': 'panels', 'pid': 3, 'begin': 15, 'end': 21}]}]},\n",
       " {'id': 'B017T3038E',\n",
       "  'category': 'Notebooks & Notepads',\n",
       "  'attributes': [{'key': 'Type',\n",
       "    'evidences': [{'value': 'Notebook', 'pid': 0, 'begin': 10, 'end': 18},\n",
       "     {'value': 'Journal', 'pid': 0, 'begin': 69, 'end': 76},\n",
       "     {'value': 'Notebook', 'pid': 1, 'begin': 10, 'end': 18},\n",
       "     {'value': 'notebook', 'pid': 2, 'begin': 403, 'end': 411},\n",
       "     {'value': 'notebook', 'pid': 4, 'begin': 12, 'end': 20},\n",
       "     {'value': 'notebook', 'pid': 8, 'begin': 108, 'end': 116}]}]},\n",
       " {'id': 'B00XECGDY8',\n",
       "  'category': 'Shoes',\n",
       "  'attributes': [{'key': 'Type',\n",
       "    'evidences': [{'value': 'Shoe', 'pid': 0, 'begin': 55, 'end': 59},\n",
       "     {'value': 'shoes', 'pid': 1, 'begin': 61, 'end': 66},\n",
       "     {'value': 'shoe', 'pid': 1, 'begin': 150, 'end': 154},\n",
       "     {'value': 'shoes', 'pid': 1, 'begin': 278, 'end': 283}]},\n",
       "   {'key': 'Style',\n",
       "    'evidences': [{'value': 'Vans', 'pid': 0, 'begin': 0, 'end': 4},\n",
       "     {'value': 'casual', 'pid': 1, 'begin': 242, 'end': 248},\n",
       "     {'value': 'Vans', 'pid': 11, 'begin': 0, 'end': 4}]},\n",
       "   {'key': 'Athletic Shoe Style',\n",
       "    'evidences': [{'value': 'Skateboarding Shoe',\n",
       "      'pid': 0,\n",
       "      'begin': 41,\n",
       "      'end': 59},\n",
       "     {'value': 'skateboarding shoe', 'pid': 1, 'begin': 136, 'end': 154}]}]},\n",
       " {'id': 'B01EUR06XY',\n",
       "  'category': 'Baking Mats & Liners',\n",
       "  'attributes': [{'key': 'Type',\n",
       "    'evidences': [{'value': 'oven', 'pid': 1, 'begin': 441, 'end': 445},\n",
       "     {'value': 'Ovens', 'pid': 1, 'begin': 1378, 'end': 1383},\n",
       "     {'value': 'BAKING MAT', 'pid': 1, 'begin': 1501, 'end': 1511},\n",
       "     {'value': 'baking mats', 'pid': 4, 'begin': 107, 'end': 118},\n",
       "     {'value': 'oven', 'pid': 5, 'begin': 115, 'end': 119}]}]},\n",
       " {'id': 'B00XJ0PCOC',\n",
       "  'category': 'Swimwear',\n",
       "  'attributes': [{'key': 'Type',\n",
       "    'evidences': [{'value': 'One Piece', 'pid': 0, 'begin': 78, 'end': 87},\n",
       "     {'value': 'swimsuit', 'pid': 11, 'begin': 52, 'end': 60},\n",
       "     {'value': 'swimsuit', 'pid': 11, 'begin': 252, 'end': 260},\n",
       "     {'value': 'swimsuit', 'pid': 11, 'begin': 367, 'end': 375},\n",
       "     {'value': 'one piece', 'pid': 20, 'begin': 115, 'end': 124},\n",
       "     {'value': 'one piece', 'pid': 21, 'begin': 34, 'end': 43},\n",
       "     {'value': 'swimsuit', 'pid': 22, 'begin': 28, 'end': 36},\n",
       "     {'value': 'swimsuit', 'pid': 22, 'begin': 150, 'end': 158}]}]},\n",
       " {'id': 'B00SQ60G2C',\n",
       "  'category': 'Baby One-Pieces',\n",
       "  'attributes': [{'key': 'Style',\n",
       "    'evidences': [{'value': 'Bodysuit', 'pid': 0, 'begin': 56, 'end': 64}]}]},\n",
       " {'id': 'B01GSYB032',\n",
       "  'category': 'Stuffed Animals',\n",
       "  'attributes': [{'key': 'Form',\n",
       "    'evidences': [{'value': 'Curious George', 'pid': 0, 'begin': 5, 'end': 19},\n",
       "     {'value': 'monkey', 'pid': 1, 'begin': 45, 'end': 51},\n",
       "     {'value': 'Curious George', 'pid': 1, 'begin': 52, 'end': 66},\n",
       "     {'value': 'Curious George', 'pid': 2, 'begin': 0, 'end': 14},\n",
       "     {'value': 'Curious George', 'pid': 4, 'begin': 42, 'end': 56},\n",
       "     {'value': 'Curious George', 'pid': 7, 'begin': 0, 'end': 14},\n",
       "     {'value': 'Curious George', 'pid': 9, 'begin': 42, 'end': 56}]}]},\n",
       " {'id': 'B007IXZ6Z6',\n",
       "  'category': 'Locks & Keys',\n",
       "  'attributes': [{'key': 'Lock Use',\n",
       "    'evidences': [{'value': 'Luggage', 'pid': 0, 'begin': 26, 'end': 33},\n",
       "     {'value': 'luggage', 'pid': 1, 'begin': 115, 'end': 122},\n",
       "     {'value': 'luggage', 'pid': 1, 'begin': 200, 'end': 207},\n",
       "     {'value': 'luggage', 'pid': 1, 'begin': 376, 'end': 383},\n",
       "     {'value': 'luggage', 'pid': 4, 'begin': 56, 'end': 63},\n",
       "     {'value': 'luggage', 'pid': 6, 'begin': 21, 'end': 28}]}]},\n",
       " {'id': 'B001R6FZLU',\n",
       "  'category': 'Numeric Keypads',\n",
       "  'attributes': [{'key': 'Number of Keys',\n",
       "    'evidences': [{'value': '19 Keys', 'pid': 0, 'begin': 114, 'end': 121},\n",
       "     {'value': '19 Keys', 'pid': 2, 'begin': 0, 'end': 7}]}]},\n",
       " {'id': 'B00A3YKK4E',\n",
       "  'category': 'Craft & Office Scissors',\n",
       "  'attributes': [{'key': 'Type',\n",
       "    'evidences': [{'value': 'Office', 'pid': 0, 'begin': 48, 'end': 54}]}]}]"
      ]
     },
     "execution_count": 4,
     "metadata": {},
     "output_type": "execute_result"
    }
   ],
   "source": [
    "len(records_list)\n",
    "records_list"
   ]
  },
  {
   "cell_type": "code",
   "execution_count": 5,
   "metadata": {
    "collapsed": true
   },
   "outputs": [],
   "source": [
    "import pandas as pd\n",
    "\n",
    "df = pd.read_json('labels\\mave_positives_labels.jsonl', lines=True, nrows=10)"
   ]
  },
  {
   "cell_type": "code",
   "execution_count": 6,
   "metadata": {},
   "outputs": [
    {
     "data": {
      "text/html": [
       "<div>\n",
       "<style scoped>\n",
       "    .dataframe tbody tr th:only-of-type {\n",
       "        vertical-align: middle;\n",
       "    }\n",
       "\n",
       "    .dataframe tbody tr th {\n",
       "        vertical-align: top;\n",
       "    }\n",
       "\n",
       "    .dataframe thead th {\n",
       "        text-align: right;\n",
       "    }\n",
       "</style>\n",
       "<table border=\"1\" class=\"dataframe\">\n",
       "  <thead>\n",
       "    <tr style=\"text-align: right;\">\n",
       "      <th></th>\n",
       "      <th>id</th>\n",
       "      <th>category</th>\n",
       "      <th>attributes</th>\n",
       "    </tr>\n",
       "  </thead>\n",
       "  <tbody>\n",
       "    <tr>\n",
       "      <th>0</th>\n",
       "      <td>B0052LYUH6</td>\n",
       "      <td>Curtains &amp; Drapes</td>\n",
       "      <td>[{'key': 'Attachment Method', 'evidences': [{'...</td>\n",
       "    </tr>\n",
       "    <tr>\n",
       "      <th>1</th>\n",
       "      <td>B017T3038E</td>\n",
       "      <td>Notebooks &amp; Notepads</td>\n",
       "      <td>[{'key': 'Type', 'evidences': [{'value': 'Note...</td>\n",
       "    </tr>\n",
       "    <tr>\n",
       "      <th>2</th>\n",
       "      <td>B00XECGDY8</td>\n",
       "      <td>Shoes</td>\n",
       "      <td>[{'key': 'Type', 'evidences': [{'value': 'Shoe...</td>\n",
       "    </tr>\n",
       "    <tr>\n",
       "      <th>3</th>\n",
       "      <td>B01EUR06XY</td>\n",
       "      <td>Baking Mats &amp; Liners</td>\n",
       "      <td>[{'key': 'Type', 'evidences': [{'value': 'oven...</td>\n",
       "    </tr>\n",
       "    <tr>\n",
       "      <th>4</th>\n",
       "      <td>B00XJ0PCOC</td>\n",
       "      <td>Swimwear</td>\n",
       "      <td>[{'key': 'Type', 'evidences': [{'value': 'One ...</td>\n",
       "    </tr>\n",
       "  </tbody>\n",
       "</table>\n",
       "</div>"
      ],
      "text/plain": [
       "           id              category  \\\n",
       "0  B0052LYUH6     Curtains & Drapes   \n",
       "1  B017T3038E  Notebooks & Notepads   \n",
       "2  B00XECGDY8                 Shoes   \n",
       "3  B01EUR06XY  Baking Mats & Liners   \n",
       "4  B00XJ0PCOC              Swimwear   \n",
       "\n",
       "                                          attributes  \n",
       "0  [{'key': 'Attachment Method', 'evidences': [{'...  \n",
       "1  [{'key': 'Type', 'evidences': [{'value': 'Note...  \n",
       "2  [{'key': 'Type', 'evidences': [{'value': 'Shoe...  \n",
       "3  [{'key': 'Type', 'evidences': [{'value': 'oven...  \n",
       "4  [{'key': 'Type', 'evidences': [{'value': 'One ...  "
      ]
     },
     "execution_count": 6,
     "metadata": {},
     "output_type": "execute_result"
    }
   ],
   "source": [
    "df.head(5)"
   ]
  },
  {
   "cell_type": "code",
   "execution_count": null,
   "metadata": {},
   "outputs": [],
   "source": []
  }
 ],
 "metadata": {
  "kernelspec": {
   "display_name": "Python 3 (ipykernel)",
   "language": "python",
   "name": "python3"
  },
  "language_info": {
   "codemirror_mode": {
    "name": "ipython",
    "version": 3
   },
   "file_extension": ".py",
   "mimetype": "text/x-python",
   "name": "python",
   "nbconvert_exporter": "python",
   "pygments_lexer": "ipython3",
   "version": "3.9.7"
  }
 },
 "nbformat": 4,
 "nbformat_minor": 2
}
