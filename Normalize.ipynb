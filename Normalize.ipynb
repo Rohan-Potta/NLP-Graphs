{
 "cells": [
  {
   "cell_type": "code",
   "execution_count": 1,
   "id": "74c5c99a",
   "metadata": {},
   "outputs": [],
   "source": [
    "import pandas as pd\n",
    "\n",
    "df = pd.read_json('labels\\mave_positives_labels.jsonl', lines=True, nrows=10)"
   ]
  },
  {
   "cell_type": "code",
   "execution_count": 2,
   "id": "5cbacb25",
   "metadata": {},
   "outputs": [],
   "source": [
    "# Convert the 'attributes' column from a list of dictionaries to separate columns\n",
    "df_attributes_expanded = pd.json_normalize(df['attributes'])\n",
    "\n",
    "# Concatenate the expanded attributes DataFrame with the original DataFrame\n",
    "df = pd.concat([df, df_attributes_expanded], axis=1)\n",
    "\n",
    "# Drop the original 'attributes' column\n",
    "df.drop(columns=['attributes'], inplace=True)"
   ]
  },
  {
   "cell_type": "code",
   "execution_count": 3,
   "id": "336a71d5",
   "metadata": {},
   "outputs": [
    {
     "data": {
      "text/html": [
       "<div>\n",
       "<style scoped>\n",
       "    .dataframe tbody tr th:only-of-type {\n",
       "        vertical-align: middle;\n",
       "    }\n",
       "\n",
       "    .dataframe tbody tr th {\n",
       "        vertical-align: top;\n",
       "    }\n",
       "\n",
       "    .dataframe thead th {\n",
       "        text-align: right;\n",
       "    }\n",
       "</style>\n",
       "<table border=\"1\" class=\"dataframe\">\n",
       "  <thead>\n",
       "    <tr style=\"text-align: right;\">\n",
       "      <th></th>\n",
       "      <th>id</th>\n",
       "      <th>category</th>\n",
       "      <th>0</th>\n",
       "      <th>1</th>\n",
       "      <th>2</th>\n",
       "    </tr>\n",
       "  </thead>\n",
       "  <tbody>\n",
       "    <tr>\n",
       "      <th>0</th>\n",
       "      <td>B0052LYUH6</td>\n",
       "      <td>Curtains &amp; Drapes</td>\n",
       "      <td>{'key': 'Attachment Method', 'evidences': [{'v...</td>\n",
       "      <td>{'key': 'Style', 'evidences': [{'value': 'Pane...</td>\n",
       "      <td>None</td>\n",
       "    </tr>\n",
       "    <tr>\n",
       "      <th>1</th>\n",
       "      <td>B017T3038E</td>\n",
       "      <td>Notebooks &amp; Notepads</td>\n",
       "      <td>{'key': 'Type', 'evidences': [{'value': 'Noteb...</td>\n",
       "      <td>None</td>\n",
       "      <td>None</td>\n",
       "    </tr>\n",
       "    <tr>\n",
       "      <th>2</th>\n",
       "      <td>B00XECGDY8</td>\n",
       "      <td>Shoes</td>\n",
       "      <td>{'key': 'Type', 'evidences': [{'value': 'Shoe'...</td>\n",
       "      <td>{'key': 'Style', 'evidences': [{'value': 'Vans...</td>\n",
       "      <td>{'key': 'Athletic Shoe Style', 'evidences': [{...</td>\n",
       "    </tr>\n",
       "    <tr>\n",
       "      <th>3</th>\n",
       "      <td>B01EUR06XY</td>\n",
       "      <td>Baking Mats &amp; Liners</td>\n",
       "      <td>{'key': 'Type', 'evidences': [{'value': 'oven'...</td>\n",
       "      <td>None</td>\n",
       "      <td>None</td>\n",
       "    </tr>\n",
       "    <tr>\n",
       "      <th>4</th>\n",
       "      <td>B00XJ0PCOC</td>\n",
       "      <td>Swimwear</td>\n",
       "      <td>{'key': 'Type', 'evidences': [{'value': 'One P...</td>\n",
       "      <td>None</td>\n",
       "      <td>None</td>\n",
       "    </tr>\n",
       "  </tbody>\n",
       "</table>\n",
       "</div>"
      ],
      "text/plain": [
       "           id              category  \\\n",
       "0  B0052LYUH6     Curtains & Drapes   \n",
       "1  B017T3038E  Notebooks & Notepads   \n",
       "2  B00XECGDY8                 Shoes   \n",
       "3  B01EUR06XY  Baking Mats & Liners   \n",
       "4  B00XJ0PCOC              Swimwear   \n",
       "\n",
       "                                                   0  \\\n",
       "0  {'key': 'Attachment Method', 'evidences': [{'v...   \n",
       "1  {'key': 'Type', 'evidences': [{'value': 'Noteb...   \n",
       "2  {'key': 'Type', 'evidences': [{'value': 'Shoe'...   \n",
       "3  {'key': 'Type', 'evidences': [{'value': 'oven'...   \n",
       "4  {'key': 'Type', 'evidences': [{'value': 'One P...   \n",
       "\n",
       "                                                   1  \\\n",
       "0  {'key': 'Style', 'evidences': [{'value': 'Pane...   \n",
       "1                                               None   \n",
       "2  {'key': 'Style', 'evidences': [{'value': 'Vans...   \n",
       "3                                               None   \n",
       "4                                               None   \n",
       "\n",
       "                                                   2  \n",
       "0                                               None  \n",
       "1                                               None  \n",
       "2  {'key': 'Athletic Shoe Style', 'evidences': [{...  \n",
       "3                                               None  \n",
       "4                                               None  "
      ]
     },
     "execution_count": 3,
     "metadata": {},
     "output_type": "execute_result"
    }
   ],
   "source": [
    "df.head()"
   ]
  },
  {
   "cell_type": "code",
   "execution_count": null,
   "id": "5a7a87ce",
   "metadata": {},
   "outputs": [],
   "source": []
  }
 ],
 "metadata": {
  "kernelspec": {
   "display_name": "Python 3 (ipykernel)",
   "language": "python",
   "name": "python3"
  },
  "language_info": {
   "codemirror_mode": {
    "name": "ipython",
    "version": 3
   },
   "file_extension": ".py",
   "mimetype": "text/x-python",
   "name": "python",
   "nbconvert_exporter": "python",
   "pygments_lexer": "ipython3",
   "version": "3.9.7"
  }
 },
 "nbformat": 4,
 "nbformat_minor": 5
}
